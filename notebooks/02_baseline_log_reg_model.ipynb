{
 "cells": [
  {
   "cell_type": "code",
   "execution_count": 1,
   "id": "bce5534b",
   "metadata": {
    "tags": [
     "node"
    ]
   },
   "outputs": [],
   "source": [
    "import pandas as pd\n",
    "import numpy as np\n",
    "from random import seed, randint, choice\n",
    "import seaborn as sns\n",
    "import statsmodels.api as sm\n",
    "import matplotlib.pyplot as plt\n",
    "from IPython.display import display, HTML\n",
    "from sklearn.utils import resample\n",
    "from sklearn.preprocessing import StandardScaler\n",
    "from sklearn.model_selection import train_test_split\n",
    "from sklearn.linear_model import LogisticRegressionCV\n",
    "from sklearn.metrics import f1_score, confusion_matrix, roc_auc_score"
   ]
  },
  {
   "cell_type": "code",
   "execution_count": 2,
   "id": "8d2d7095",
   "metadata": {},
   "outputs": [],
   "source": [
    "def display_scroll(df):\n",
    "    pd.set_option(\"display.max_rows\", None)\n",
    "    display(HTML(\"<div style='height: 200px; overflow: auto; width: fit-content'>\" +\n",
    "                 df.style.to_html() +\n",
    "                 \"</div>\"))\n",
    "    pd.set_option(\"display.max_rows\", 20)"
   ]
  },
  {
   "cell_type": "code",
   "execution_count": 3,
   "id": "329bfa9a",
   "metadata": {},
   "outputs": [
    {
     "data": {
      "text/html": [
       "<pre style=\"white-space:pre;overflow-x:auto;line-height:normal;font-family:Menlo,'DejaVu Sans Mono',consolas,'Courier New',monospace\"><span style=\"color: #7fbfbf; text-decoration-color: #7fbfbf\">[04/20/23 21:24:35] </span><span style=\"color: #000080; text-decoration-color: #000080\">INFO    </span> Loading data from <span style=\"color: #008000; text-decoration-color: #008000\">'light_train'</span> <span style=\"font-weight: bold\">(</span>PickleDataSet<span style=\"font-weight: bold\">)</span><span style=\"color: #808000; text-decoration-color: #808000\">...</span>                 <a href=\"file:///Users/iferreiro/miniconda3/lib/python3.10/site-packages/kedro/io/data_catalog.py\" target=\"_blank\"><span style=\"color: #7f7f7f; text-decoration-color: #7f7f7f\">data_catalog.py</span></a><span style=\"color: #7f7f7f; text-decoration-color: #7f7f7f\">:</span><a href=\"file:///Users/iferreiro/miniconda3/lib/python3.10/site-packages/kedro/io/data_catalog.py#343\" target=\"_blank\"><span style=\"color: #7f7f7f; text-decoration-color: #7f7f7f\">343</span></a>\n",
       "</pre>\n"
      ],
      "text/plain": [
       "\u001b[2;36m[04/20/23 21:24:35]\u001b[0m\u001b[2;36m \u001b[0m\u001b[34mINFO    \u001b[0m Loading data from \u001b[32m'light_train'\u001b[0m \u001b[1m(\u001b[0mPickleDataSet\u001b[1m)\u001b[0m\u001b[33m...\u001b[0m                 \u001b]8;id=894095;file:///Users/iferreiro/miniconda3/lib/python3.10/site-packages/kedro/io/data_catalog.py\u001b\\\u001b[2mdata_catalog.py\u001b[0m\u001b]8;;\u001b\\\u001b[2m:\u001b[0m\u001b]8;id=963917;file:///Users/iferreiro/miniconda3/lib/python3.10/site-packages/kedro/io/data_catalog.py#343\u001b\\\u001b[2m343\u001b[0m\u001b]8;;\u001b\\\n"
      ]
     },
     "metadata": {},
     "output_type": "display_data"
    },
    {
     "data": {
      "text/html": [
       "<div>\n",
       "<style scoped>\n",
       "    .dataframe tbody tr th:only-of-type {\n",
       "        vertical-align: middle;\n",
       "    }\n",
       "\n",
       "    .dataframe tbody tr th {\n",
       "        vertical-align: top;\n",
       "    }\n",
       "\n",
       "    .dataframe thead th {\n",
       "        text-align: right;\n",
       "    }\n",
       "</style>\n",
       "<table border=\"1\" class=\"dataframe\">\n",
       "  <thead>\n",
       "    <tr style=\"text-align: right;\">\n",
       "      <th></th>\n",
       "      <th>session_id</th>\n",
       "      <th>elapsed_time</th>\n",
       "      <th>event_name</th>\n",
       "      <th>name</th>\n",
       "      <th>level</th>\n",
       "      <th>page</th>\n",
       "      <th>room_coor_x</th>\n",
       "      <th>room_coor_y</th>\n",
       "      <th>screen_coor_x</th>\n",
       "      <th>screen_coor_y</th>\n",
       "      <th>hover_duration</th>\n",
       "      <th>text</th>\n",
       "      <th>fqid</th>\n",
       "      <th>room_fqid</th>\n",
       "      <th>text_fqid</th>\n",
       "      <th>level_group</th>\n",
       "    </tr>\n",
       "    <tr>\n",
       "      <th>index</th>\n",
       "      <th></th>\n",
       "      <th></th>\n",
       "      <th></th>\n",
       "      <th></th>\n",
       "      <th></th>\n",
       "      <th></th>\n",
       "      <th></th>\n",
       "      <th></th>\n",
       "      <th></th>\n",
       "      <th></th>\n",
       "      <th></th>\n",
       "      <th></th>\n",
       "      <th></th>\n",
       "      <th></th>\n",
       "      <th></th>\n",
       "      <th></th>\n",
       "    </tr>\n",
       "  </thead>\n",
       "  <tbody>\n",
       "    <tr>\n",
       "      <th>0</th>\n",
       "      <td>20090312431273200</td>\n",
       "      <td>0</td>\n",
       "      <td>cutscene_click</td>\n",
       "      <td>basic</td>\n",
       "      <td>0</td>\n",
       "      <td>NaN</td>\n",
       "      <td>-414.0</td>\n",
       "      <td>-159.375</td>\n",
       "      <td>380.0</td>\n",
       "      <td>494.0</td>\n",
       "      <td>NaN</td>\n",
       "      <td>undefined</td>\n",
       "      <td>intro</td>\n",
       "      <td>tunic.historicalsociety.closet</td>\n",
       "      <td>tunic.historicalsociety.closet.intro</td>\n",
       "      <td>0-4</td>\n",
       "    </tr>\n",
       "    <tr>\n",
       "      <th>1</th>\n",
       "      <td>20090312431273200</td>\n",
       "      <td>1323</td>\n",
       "      <td>person_click</td>\n",
       "      <td>basic</td>\n",
       "      <td>0</td>\n",
       "      <td>NaN</td>\n",
       "      <td>-414.0</td>\n",
       "      <td>-159.375</td>\n",
       "      <td>380.0</td>\n",
       "      <td>494.0</td>\n",
       "      <td>NaN</td>\n",
       "      <td>Whatcha doing over there, Jo?</td>\n",
       "      <td>gramps</td>\n",
       "      <td>tunic.historicalsociety.closet</td>\n",
       "      <td>tunic.historicalsociety.closet.gramps.intro_0_...</td>\n",
       "      <td>0-4</td>\n",
       "    </tr>\n",
       "    <tr>\n",
       "      <th>2</th>\n",
       "      <td>20090312431273200</td>\n",
       "      <td>831</td>\n",
       "      <td>person_click</td>\n",
       "      <td>basic</td>\n",
       "      <td>0</td>\n",
       "      <td>NaN</td>\n",
       "      <td>-414.0</td>\n",
       "      <td>-159.375</td>\n",
       "      <td>380.0</td>\n",
       "      <td>494.0</td>\n",
       "      <td>NaN</td>\n",
       "      <td>Just talking to Teddy.</td>\n",
       "      <td>gramps</td>\n",
       "      <td>tunic.historicalsociety.closet</td>\n",
       "      <td>tunic.historicalsociety.closet.gramps.intro_0_...</td>\n",
       "      <td>0-4</td>\n",
       "    </tr>\n",
       "    <tr>\n",
       "      <th>3</th>\n",
       "      <td>20090312431273200</td>\n",
       "      <td>1147</td>\n",
       "      <td>person_click</td>\n",
       "      <td>basic</td>\n",
       "      <td>0</td>\n",
       "      <td>NaN</td>\n",
       "      <td>-414.0</td>\n",
       "      <td>-159.375</td>\n",
       "      <td>380.0</td>\n",
       "      <td>494.0</td>\n",
       "      <td>NaN</td>\n",
       "      <td>I gotta run to my meeting!</td>\n",
       "      <td>gramps</td>\n",
       "      <td>tunic.historicalsociety.closet</td>\n",
       "      <td>tunic.historicalsociety.closet.gramps.intro_0_...</td>\n",
       "      <td>0-4</td>\n",
       "    </tr>\n",
       "    <tr>\n",
       "      <th>4</th>\n",
       "      <td>20090312431273200</td>\n",
       "      <td>1863</td>\n",
       "      <td>person_click</td>\n",
       "      <td>basic</td>\n",
       "      <td>0</td>\n",
       "      <td>NaN</td>\n",
       "      <td>-413.0</td>\n",
       "      <td>-159.375</td>\n",
       "      <td>381.0</td>\n",
       "      <td>494.0</td>\n",
       "      <td>NaN</td>\n",
       "      <td>Can I come, Gramps?</td>\n",
       "      <td>gramps</td>\n",
       "      <td>tunic.historicalsociety.closet</td>\n",
       "      <td>tunic.historicalsociety.closet.gramps.intro_0_...</td>\n",
       "      <td>0-4</td>\n",
       "    </tr>\n",
       "  </tbody>\n",
       "</table>\n",
       "</div>"
      ],
      "text/plain": [
       "              session_id  elapsed_time      event_name   name  level  page   \n",
       "index                                                                        \n",
       "0      20090312431273200             0  cutscene_click  basic      0   NaN  \\\n",
       "1      20090312431273200          1323    person_click  basic      0   NaN   \n",
       "2      20090312431273200           831    person_click  basic      0   NaN   \n",
       "3      20090312431273200          1147    person_click  basic      0   NaN   \n",
       "4      20090312431273200          1863    person_click  basic      0   NaN   \n",
       "\n",
       "       room_coor_x  room_coor_y  screen_coor_x  screen_coor_y  hover_duration   \n",
       "index                                                                           \n",
       "0           -414.0     -159.375          380.0          494.0             NaN  \\\n",
       "1           -414.0     -159.375          380.0          494.0             NaN   \n",
       "2           -414.0     -159.375          380.0          494.0             NaN   \n",
       "3           -414.0     -159.375          380.0          494.0             NaN   \n",
       "4           -413.0     -159.375          381.0          494.0             NaN   \n",
       "\n",
       "                                text    fqid                       room_fqid   \n",
       "index                                                                          \n",
       "0                          undefined   intro  tunic.historicalsociety.closet  \\\n",
       "1      Whatcha doing over there, Jo?  gramps  tunic.historicalsociety.closet   \n",
       "2             Just talking to Teddy.  gramps  tunic.historicalsociety.closet   \n",
       "3         I gotta run to my meeting!  gramps  tunic.historicalsociety.closet   \n",
       "4                Can I come, Gramps?  gramps  tunic.historicalsociety.closet   \n",
       "\n",
       "                                               text_fqid level_group  \n",
       "index                                                                 \n",
       "0                   tunic.historicalsociety.closet.intro         0-4  \n",
       "1      tunic.historicalsociety.closet.gramps.intro_0_...         0-4  \n",
       "2      tunic.historicalsociety.closet.gramps.intro_0_...         0-4  \n",
       "3      tunic.historicalsociety.closet.gramps.intro_0_...         0-4  \n",
       "4      tunic.historicalsociety.closet.gramps.intro_0_...         0-4  "
      ]
     },
     "metadata": {},
     "output_type": "display_data"
    }
   ],
   "source": [
    "# light_train is built and saved by 'reduce_memory_usage' pipeline\n",
    "train = catalog.load(\"light_train\")\n",
    "train.set_index('index', inplace=True)\n",
    "display(train.head())"
   ]
  },
  {
   "cell_type": "code",
   "execution_count": 4,
   "id": "3e646b06",
   "metadata": {},
   "outputs": [
    {
     "data": {
      "text/html": [
       "<pre style=\"white-space:pre;overflow-x:auto;line-height:normal;font-family:Menlo,'DejaVu Sans Mono',consolas,'Courier New',monospace\"><span style=\"color: #7fbfbf; text-decoration-color: #7fbfbf\">[04/20/23 21:24:36] </span><span style=\"color: #000080; text-decoration-color: #000080\">INFO    </span> Loading data from <span style=\"color: #008000; text-decoration-color: #008000\">'train_labels'</span> <span style=\"font-weight: bold\">(</span>CSVDataSet<span style=\"font-weight: bold\">)</span><span style=\"color: #808000; text-decoration-color: #808000\">...</span>                   <a href=\"file:///Users/iferreiro/miniconda3/lib/python3.10/site-packages/kedro/io/data_catalog.py\" target=\"_blank\"><span style=\"color: #7f7f7f; text-decoration-color: #7f7f7f\">data_catalog.py</span></a><span style=\"color: #7f7f7f; text-decoration-color: #7f7f7f\">:</span><a href=\"file:///Users/iferreiro/miniconda3/lib/python3.10/site-packages/kedro/io/data_catalog.py#343\" target=\"_blank\"><span style=\"color: #7f7f7f; text-decoration-color: #7f7f7f\">343</span></a>\n",
       "</pre>\n"
      ],
      "text/plain": [
       "\u001b[2;36m[04/20/23 21:24:36]\u001b[0m\u001b[2;36m \u001b[0m\u001b[34mINFO    \u001b[0m Loading data from \u001b[32m'train_labels'\u001b[0m \u001b[1m(\u001b[0mCSVDataSet\u001b[1m)\u001b[0m\u001b[33m...\u001b[0m                   \u001b]8;id=869800;file:///Users/iferreiro/miniconda3/lib/python3.10/site-packages/kedro/io/data_catalog.py\u001b\\\u001b[2mdata_catalog.py\u001b[0m\u001b]8;;\u001b\\\u001b[2m:\u001b[0m\u001b]8;id=602869;file:///Users/iferreiro/miniconda3/lib/python3.10/site-packages/kedro/io/data_catalog.py#343\u001b\\\u001b[2m343\u001b[0m\u001b]8;;\u001b\\\n"
      ]
     },
     "metadata": {},
     "output_type": "display_data"
    },
    {
     "data": {
      "text/html": [
       "<div>\n",
       "<style scoped>\n",
       "    .dataframe tbody tr th:only-of-type {\n",
       "        vertical-align: middle;\n",
       "    }\n",
       "\n",
       "    .dataframe tbody tr th {\n",
       "        vertical-align: top;\n",
       "    }\n",
       "\n",
       "    .dataframe thead th {\n",
       "        text-align: right;\n",
       "    }\n",
       "</style>\n",
       "<table border=\"1\" class=\"dataframe\">\n",
       "  <thead>\n",
       "    <tr style=\"text-align: right;\">\n",
       "      <th></th>\n",
       "      <th>session_id</th>\n",
       "      <th>correct</th>\n",
       "    </tr>\n",
       "  </thead>\n",
       "  <tbody>\n",
       "    <tr>\n",
       "      <th>0</th>\n",
       "      <td>20090312431273200_q1</td>\n",
       "      <td>1</td>\n",
       "    </tr>\n",
       "    <tr>\n",
       "      <th>1</th>\n",
       "      <td>20090312433251036_q1</td>\n",
       "      <td>0</td>\n",
       "    </tr>\n",
       "    <tr>\n",
       "      <th>2</th>\n",
       "      <td>20090312455206810_q1</td>\n",
       "      <td>1</td>\n",
       "    </tr>\n",
       "    <tr>\n",
       "      <th>3</th>\n",
       "      <td>20090313091715820_q1</td>\n",
       "      <td>0</td>\n",
       "    </tr>\n",
       "    <tr>\n",
       "      <th>4</th>\n",
       "      <td>20090313571836404_q1</td>\n",
       "      <td>1</td>\n",
       "    </tr>\n",
       "  </tbody>\n",
       "</table>\n",
       "</div>"
      ],
      "text/plain": [
       "             session_id  correct\n",
       "0  20090312431273200_q1        1\n",
       "1  20090312433251036_q1        0\n",
       "2  20090312455206810_q1        1\n",
       "3  20090313091715820_q1        0\n",
       "4  20090313571836404_q1        1"
      ]
     },
     "metadata": {},
     "output_type": "display_data"
    }
   ],
   "source": [
    "labels = catalog.load(\"train_labels\")\n",
    "# labels.set_index('index', inplace=True)\n",
    "display(labels.head())"
   ]
  },
  {
   "cell_type": "code",
   "execution_count": 5,
   "id": "4ce9da31",
   "metadata": {},
   "outputs": [
    {
     "data": {
      "text/plain": [
       "1\n",
       "q1     23562\n",
       "q10    23562\n",
       "q11    23562\n",
       "q12    23562\n",
       "q13    23562\n",
       "q14    23562\n",
       "q15    23562\n",
       "q16    23562\n",
       "q17    23562\n",
       "q18    23562\n",
       "q2     23562\n",
       "q3     23562\n",
       "q4     23562\n",
       "q5     23562\n",
       "q6     23562\n",
       "q7     23562\n",
       "q8     23562\n",
       "q9     23562\n",
       "Name: 0, dtype: int64"
      ]
     },
     "metadata": {},
     "output_type": "display_data"
    }
   ],
   "source": [
    "# List the different questions\n",
    "l = labels['session_id'].str.split('_', expand=True).groupby(1)[0].nunique()\n",
    "display(l)"
   ]
  },
  {
   "cell_type": "markdown",
   "id": "9ac597f8",
   "metadata": {},
   "source": [
    "# Baseline model for question 1\n",
    "## Feature engineering"
   ]
  },
  {
   "cell_type": "code",
   "execution_count": 6,
   "id": "c200b8c7",
   "metadata": {},
   "outputs": [
    {
     "data": {
      "text/html": [
       "<div>\n",
       "<style scoped>\n",
       "    .dataframe tbody tr th:only-of-type {\n",
       "        vertical-align: middle;\n",
       "    }\n",
       "\n",
       "    .dataframe tbody tr th {\n",
       "        vertical-align: top;\n",
       "    }\n",
       "\n",
       "    .dataframe thead th {\n",
       "        text-align: right;\n",
       "    }\n",
       "</style>\n",
       "<table border=\"1\" class=\"dataframe\">\n",
       "  <thead>\n",
       "    <tr style=\"text-align: right;\">\n",
       "      <th></th>\n",
       "      <th>session_id</th>\n",
       "      <th>correct</th>\n",
       "    </tr>\n",
       "  </thead>\n",
       "  <tbody>\n",
       "    <tr>\n",
       "      <th>0</th>\n",
       "      <td>20090312431273200</td>\n",
       "      <td>1</td>\n",
       "    </tr>\n",
       "    <tr>\n",
       "      <th>1</th>\n",
       "      <td>20090312433251036</td>\n",
       "      <td>0</td>\n",
       "    </tr>\n",
       "    <tr>\n",
       "      <th>2</th>\n",
       "      <td>20090312455206810</td>\n",
       "      <td>1</td>\n",
       "    </tr>\n",
       "    <tr>\n",
       "      <th>3</th>\n",
       "      <td>20090313091715820</td>\n",
       "      <td>0</td>\n",
       "    </tr>\n",
       "    <tr>\n",
       "      <th>4</th>\n",
       "      <td>20090313571836404</td>\n",
       "      <td>1</td>\n",
       "    </tr>\n",
       "  </tbody>\n",
       "</table>\n",
       "</div>"
      ],
      "text/plain": [
       "          session_id  correct\n",
       "0  20090312431273200        1\n",
       "1  20090312433251036        0\n",
       "2  20090312455206810        1\n",
       "3  20090313091715820        0\n",
       "4  20090313571836404        1"
      ]
     },
     "metadata": {},
     "output_type": "display_data"
    }
   ],
   "source": [
    "labels_q1 = labels[labels['session_id'].str[-3:] == '_q1']\n",
    "labels_q1.loc[:,'session_id'] = labels_q1['session_id'].str.split('_', expand=True)[0].astype(int)\n",
    "display(labels_q1.head())"
   ]
  },
  {
   "cell_type": "code",
   "execution_count": 7,
   "id": "a836966e",
   "metadata": {},
   "outputs": [
    {
     "data": {
      "text/html": [
       "<div>\n",
       "<style scoped>\n",
       "    .dataframe tbody tr th:only-of-type {\n",
       "        vertical-align: middle;\n",
       "    }\n",
       "\n",
       "    .dataframe tbody tr th {\n",
       "        vertical-align: top;\n",
       "    }\n",
       "\n",
       "    .dataframe thead th {\n",
       "        text-align: right;\n",
       "    }\n",
       "</style>\n",
       "<table border=\"1\" class=\"dataframe\">\n",
       "  <thead>\n",
       "    <tr style=\"text-align: right;\">\n",
       "      <th>level</th>\n",
       "      <th>0</th>\n",
       "      <th>1</th>\n",
       "      <th>2</th>\n",
       "      <th>3</th>\n",
       "      <th>4</th>\n",
       "    </tr>\n",
       "    <tr>\n",
       "      <th>session_id</th>\n",
       "      <th></th>\n",
       "      <th></th>\n",
       "      <th></th>\n",
       "      <th></th>\n",
       "      <th></th>\n",
       "    </tr>\n",
       "  </thead>\n",
       "  <tbody>\n",
       "    <tr>\n",
       "      <th>20090312431273200</th>\n",
       "      <td>25766</td>\n",
       "      <td>39693</td>\n",
       "      <td>61020</td>\n",
       "      <td>94734</td>\n",
       "      <td>100126</td>\n",
       "    </tr>\n",
       "    <tr>\n",
       "      <th>20090312433251036</th>\n",
       "      <td>13148</td>\n",
       "      <td>41063</td>\n",
       "      <td>104844</td>\n",
       "      <td>80879</td>\n",
       "      <td>152873</td>\n",
       "    </tr>\n",
       "    <tr>\n",
       "      <th>20090312455206810</th>\n",
       "      <td>10947</td>\n",
       "      <td>240257</td>\n",
       "      <td>43416</td>\n",
       "      <td>277844</td>\n",
       "      <td>85382</td>\n",
       "    </tr>\n",
       "    <tr>\n",
       "      <th>20090313091715820</th>\n",
       "      <td>16837</td>\n",
       "      <td>33019</td>\n",
       "      <td>43343</td>\n",
       "      <td>86666</td>\n",
       "      <td>106127</td>\n",
       "    </tr>\n",
       "    <tr>\n",
       "      <th>20090313571836404</th>\n",
       "      <td>37065</td>\n",
       "      <td>29967</td>\n",
       "      <td>84648</td>\n",
       "      <td>68883</td>\n",
       "      <td>126968</td>\n",
       "    </tr>\n",
       "    <tr>\n",
       "      <th>...</th>\n",
       "      <td>...</td>\n",
       "      <td>...</td>\n",
       "      <td>...</td>\n",
       "      <td>...</td>\n",
       "      <td>...</td>\n",
       "    </tr>\n",
       "    <tr>\n",
       "      <th>22100215342220508</th>\n",
       "      <td>80445</td>\n",
       "      <td>126138</td>\n",
       "      <td>202403</td>\n",
       "      <td>253028</td>\n",
       "      <td>301607</td>\n",
       "    </tr>\n",
       "    <tr>\n",
       "      <th>22100215460321130</th>\n",
       "      <td>58153</td>\n",
       "      <td>59420</td>\n",
       "      <td>148127</td>\n",
       "      <td>120741</td>\n",
       "      <td>235058</td>\n",
       "    </tr>\n",
       "    <tr>\n",
       "      <th>22100217104993650</th>\n",
       "      <td>62161</td>\n",
       "      <td>52494</td>\n",
       "      <td>110581</td>\n",
       "      <td>243188</td>\n",
       "      <td>166471</td>\n",
       "    </tr>\n",
       "    <tr>\n",
       "      <th>22100219442786200</th>\n",
       "      <td>54097</td>\n",
       "      <td>25364</td>\n",
       "      <td>83213</td>\n",
       "      <td>58627</td>\n",
       "      <td>133100</td>\n",
       "    </tr>\n",
       "    <tr>\n",
       "      <th>22100221145014656</th>\n",
       "      <td>74808</td>\n",
       "      <td>52009</td>\n",
       "      <td>187884</td>\n",
       "      <td>155088</td>\n",
       "      <td>279967</td>\n",
       "    </tr>\n",
       "  </tbody>\n",
       "</table>\n",
       "<p>23562 rows × 5 columns</p>\n",
       "</div>"
      ],
      "text/plain": [
       "level                  0       1       2       3       4\n",
       "session_id                                              \n",
       "20090312431273200  25766   39693   61020   94734  100126\n",
       "20090312433251036  13148   41063  104844   80879  152873\n",
       "20090312455206810  10947  240257   43416  277844   85382\n",
       "20090313091715820  16837   33019   43343   86666  106127\n",
       "20090313571836404  37065   29967   84648   68883  126968\n",
       "...                  ...     ...     ...     ...     ...\n",
       "22100215342220508  80445  126138  202403  253028  301607\n",
       "22100215460321130  58153   59420  148127  120741  235058\n",
       "22100217104993650  62161   52494  110581  243188  166471\n",
       "22100219442786200  54097   25364   83213   58627  133100\n",
       "22100221145014656  74808   52009  187884  155088  279967\n",
       "\n",
       "[23562 rows x 5 columns]"
      ]
     },
     "metadata": {},
     "output_type": "display_data"
    }
   ],
   "source": [
    "train_q1 = train[train['level_group'] == '0-4']\n",
    "features_q1 = pd.pivot_table(train_q1, index = 'session_id', columns = 'level', values = 'elapsed_time', aggfunc = max)\n",
    "for level in features_q1.columns[1:]:\n",
    "    features_q1[level] = features_q1[level] - features_q1[level-1]\n",
    "display(features_q1)"
   ]
  },
  {
   "cell_type": "code",
   "execution_count": 8,
   "id": "05c3ab83",
   "metadata": {},
   "outputs": [
    {
     "data": {
      "text/html": [
       "<div>\n",
       "<style scoped>\n",
       "    .dataframe tbody tr th:only-of-type {\n",
       "        vertical-align: middle;\n",
       "    }\n",
       "\n",
       "    .dataframe tbody tr th {\n",
       "        vertical-align: top;\n",
       "    }\n",
       "\n",
       "    .dataframe thead th {\n",
       "        text-align: right;\n",
       "    }\n",
       "</style>\n",
       "<table border=\"1\" class=\"dataframe\">\n",
       "  <thead>\n",
       "    <tr style=\"text-align: right;\">\n",
       "      <th></th>\n",
       "      <th>session_id</th>\n",
       "      <th>0</th>\n",
       "      <th>1</th>\n",
       "      <th>2</th>\n",
       "      <th>3</th>\n",
       "      <th>4</th>\n",
       "      <th>correct</th>\n",
       "    </tr>\n",
       "  </thead>\n",
       "  <tbody>\n",
       "    <tr>\n",
       "      <th>0</th>\n",
       "      <td>20090312431273200</td>\n",
       "      <td>25766</td>\n",
       "      <td>39693</td>\n",
       "      <td>61020</td>\n",
       "      <td>94734</td>\n",
       "      <td>100126</td>\n",
       "      <td>1</td>\n",
       "    </tr>\n",
       "    <tr>\n",
       "      <th>1</th>\n",
       "      <td>20090312433251036</td>\n",
       "      <td>13148</td>\n",
       "      <td>41063</td>\n",
       "      <td>104844</td>\n",
       "      <td>80879</td>\n",
       "      <td>152873</td>\n",
       "      <td>0</td>\n",
       "    </tr>\n",
       "    <tr>\n",
       "      <th>2</th>\n",
       "      <td>20090312455206810</td>\n",
       "      <td>10947</td>\n",
       "      <td>240257</td>\n",
       "      <td>43416</td>\n",
       "      <td>277844</td>\n",
       "      <td>85382</td>\n",
       "      <td>1</td>\n",
       "    </tr>\n",
       "    <tr>\n",
       "      <th>3</th>\n",
       "      <td>20090313091715820</td>\n",
       "      <td>16837</td>\n",
       "      <td>33019</td>\n",
       "      <td>43343</td>\n",
       "      <td>86666</td>\n",
       "      <td>106127</td>\n",
       "      <td>0</td>\n",
       "    </tr>\n",
       "    <tr>\n",
       "      <th>4</th>\n",
       "      <td>20090313571836404</td>\n",
       "      <td>37065</td>\n",
       "      <td>29967</td>\n",
       "      <td>84648</td>\n",
       "      <td>68883</td>\n",
       "      <td>126968</td>\n",
       "      <td>1</td>\n",
       "    </tr>\n",
       "  </tbody>\n",
       "</table>\n",
       "</div>"
      ],
      "text/plain": [
       "          session_id      0       1       2       3       4  correct\n",
       "0  20090312431273200  25766   39693   61020   94734  100126        1\n",
       "1  20090312433251036  13148   41063  104844   80879  152873        0\n",
       "2  20090312455206810  10947  240257   43416  277844   85382        1\n",
       "3  20090313091715820  16837   33019   43343   86666  106127        0\n",
       "4  20090313571836404  37065   29967   84648   68883  126968        1"
      ]
     },
     "metadata": {},
     "output_type": "display_data"
    }
   ],
   "source": [
    "data_q1 = features_q1.merge(labels_q1, left_on = 'session_id', right_on = 'session_id')\n",
    "data_q1.columns = data_q1.columns.astype(str)\n",
    "display(data_q1.head())"
   ]
  },
  {
   "cell_type": "markdown",
   "id": "242cc8a5",
   "metadata": {},
   "source": [
    "## Feature EDA"
   ]
  },
  {
   "cell_type": "code",
   "execution_count": 9,
   "id": "8facdf3a",
   "metadata": {},
   "outputs": [
    {
     "data": {
      "image/png": "[encoded data removed]",
      "text/plain": [
       "<Figure size 640x480 with 6 Axes>"
      ]
     },
     "metadata": {},
     "output_type": "display_data"
    }
   ],
   "source": [
    "fig, axes = plt.subplots(2, 3)\n",
    "fig.suptitle('Correct answers for question 1 by time elapsed per level')\n",
    "\n",
    "for level in range(0,5):\n",
    "    active_ax = axes[level//3,level%3]\n",
    "    active_ax.set_title('Level '+str(level))\n",
    "    sns.regplot(data = data_q1, ax=active_ax, x=str(level), y='correct',\n",
    "                logistic = True)\n",
    "    \n",
    "plt.show()"
   ]
  },
  {
   "cell_type": "markdown",
   "id": "f4a60bbc",
   "metadata": {},
   "source": [
    "## Preprocessing"
   ]
  },
  {
   "cell_type": "code",
   "execution_count": 10,
   "id": "a957b802",
   "metadata": {},
   "outputs": [
    {
     "data": {
      "text/plain": [
       "array([[ 25766,  39693,  61020,  94734, 100126],\n",
       "       [ 13148,  41063, 104844,  80879, 152873],\n",
       "       [ 10947, 240257,  43416, 277844,  85382],\n",
       "       ...,\n",
       "       [ 62161,  52494, 110581, 243188, 166471],\n",
       "       [ 54097,  25364,  83213,  58627, 133100],\n",
       "       [ 74808,  52009, 187884, 155088, 279967]], dtype=int32)"
      ]
     },
     "metadata": {},
     "output_type": "display_data"
    },
    {
     "data": {
      "text/plain": [
       "array([1, 0, 1, ..., 1, 0, 0])"
      ]
     },
     "metadata": {},
     "output_type": "display_data"
    }
   ],
   "source": [
    "X = data_q1.drop(['session_id', 'correct'], axis = 1).to_numpy()\n",
    "y = data_q1['correct'].to_numpy()\n",
    "display(X, y)"
   ]
  },
  {
   "cell_type": "code",
   "execution_count": 11,
   "id": "e0057ca1",
   "metadata": {},
   "outputs": [
    {
     "data": {
      "text/plain": [
       "array([[-0.02685681, -0.0064124 , -0.03175132, -0.01730521, -0.03710186],\n",
       "       [-0.02747373, -0.00625315, -0.02965502, -0.01849024, -0.03460471],\n",
       "       [-0.02758134,  0.01690185, -0.0325934 , -0.00164365, -0.03779987],\n",
       "       ...,\n",
       "       [-0.02507737, -0.00492437, -0.02938059, -0.00460781, -0.03396096],\n",
       "       [-0.02547164, -0.00807805, -0.03068973, -0.02039347, -0.03554081],\n",
       "       [-0.02445903, -0.00498074, -0.02568284, -0.01214308, -0.02858783]])"
      ]
     },
     "metadata": {},
     "output_type": "display_data"
    }
   ],
   "source": [
    "scaler = StandardScaler()\n",
    "scaled_X = scaler.fit_transform(X)\n",
    "display(scaled_X)"
   ]
  },
  {
   "cell_type": "code",
   "execution_count": 12,
   "id": "3e0113e9",
   "metadata": {},
   "outputs": [],
   "source": [
    "X_train, X_test, y_train, y_test = train_test_split(scaled_X, y, test_size=0.25, random_state=42)"
   ]
  },
  {
   "cell_type": "code",
   "execution_count": 13,
   "id": "d6f225af",
   "metadata": {},
   "outputs": [],
   "source": [
    "def preprocess(df):\n",
    "    X = df.drop(['session_id', 'correct'], axis = 1).to_numpy()\n",
    "    y = df['correct'].to_numpy()\n",
    "    scaler = StandardScaler()\n",
    "    scaled_X = scaler.fit_transform(X)\n",
    "    X_train, X_test, y_train, y_test = train_test_split(scaled_X, y, test_size=0.25, random_state=42)\n",
    "    return X_train, X_test, y_train, y_test"
   ]
  },
  {
   "cell_type": "markdown",
   "id": "78f7be8c",
   "metadata": {},
   "source": [
    "## Model training\n",
    "### Multivariate logistic regression - Imbalanced classes"
   ]
  },
  {
   "cell_type": "code",
   "execution_count": 14,
   "id": "55a5304c",
   "metadata": {},
   "outputs": [
    {
     "data": {
      "text/html": [
       "<style>#sk-container-id-1 {color: black;background-color: white;}#sk-container-id-1 pre{padding: 0;}#sk-container-id-1 div.sk-toggleable {background-color: white;}#sk-container-id-1 label.sk-toggleable__label {cursor: pointer;display: block;width: 100%;margin-bottom: 0;padding: 0.3em;box-sizing: border-box;text-align: center;}#sk-container-id-1 label.sk-toggleable__label-arrow:before {content: \"▸\";float: left;margin-right: 0.25em;color: #696969;}#sk-container-id-1 label.sk-toggleable__label-arrow:hover:before {color: black;}#sk-container-id-1 div.sk-estimator:hover label.sk-toggleable__label-arrow:before {color: black;}#sk-container-id-1 div.sk-toggleable__content {max-height: 0;max-width: 0;overflow: hidden;text-align: left;background-color: #f0f8ff;}#sk-container-id-1 div.sk-toggleable__content pre {margin: 0.2em;color: black;border-radius: 0.25em;background-color: #f0f8ff;}#sk-container-id-1 input.sk-toggleable__control:checked~div.sk-toggleable__content {max-height: 200px;max-width: 100%;overflow: auto;}#sk-container-id-1 input.sk-toggleable__control:checked~label.sk-toggleable__label-arrow:before {content: \"▾\";}#sk-container-id-1 div.sk-estimator input.sk-toggleable__control:checked~label.sk-toggleable__label {background-color: #d4ebff;}#sk-container-id-1 div.sk-label input.sk-toggleable__control:checked~label.sk-toggleable__label {background-color: #d4ebff;}#sk-container-id-1 input.sk-hidden--visually {border: 0;clip: rect(1px 1px 1px 1px);clip: rect(1px, 1px, 1px, 1px);height: 1px;margin: -1px;overflow: hidden;padding: 0;position: absolute;width: 1px;}#sk-container-id-1 div.sk-estimator {font-family: monospace;background-color: #f0f8ff;border: 1px dotted black;border-radius: 0.25em;box-sizing: border-box;margin-bottom: 0.5em;}#sk-container-id-1 div.sk-estimator:hover {background-color: #d4ebff;}#sk-container-id-1 div.sk-parallel-item::after {content: \"\";width: 100%;border-bottom: 1px solid gray;flex-grow: 1;}#sk-container-id-1 div.sk-label:hover label.sk-toggleable__label {background-color: #d4ebff;}#sk-container-id-1 div.sk-serial::before {content: \"\";position: absolute;border-left: 1px solid gray;box-sizing: border-box;top: 0;bottom: 0;left: 50%;z-index: 0;}#sk-container-id-1 div.sk-serial {display: flex;flex-direction: column;align-items: center;background-color: white;padding-right: 0.2em;padding-left: 0.2em;position: relative;}#sk-container-id-1 div.sk-item {position: relative;z-index: 1;}#sk-container-id-1 div.sk-parallel {display: flex;align-items: stretch;justify-content: center;background-color: white;position: relative;}#sk-container-id-1 div.sk-item::before, #sk-container-id-1 div.sk-parallel-item::before {content: \"\";position: absolute;border-left: 1px solid gray;box-sizing: border-box;top: 0;bottom: 0;left: 50%;z-index: -1;}#sk-container-id-1 div.sk-parallel-item {display: flex;flex-direction: column;z-index: 1;position: relative;background-color: white;}#sk-container-id-1 div.sk-parallel-item:first-child::after {align-self: flex-end;width: 50%;}#sk-container-id-1 div.sk-parallel-item:last-child::after {align-self: flex-start;width: 50%;}#sk-container-id-1 div.sk-parallel-item:only-child::after {width: 0;}#sk-container-id-1 div.sk-dashed-wrapped {border: 1px dashed gray;margin: 0 0.4em 0.5em 0.4em;box-sizing: border-box;padding-bottom: 0.4em;background-color: white;}#sk-container-id-1 div.sk-label label {font-family: monospace;font-weight: bold;display: inline-block;line-height: 1.2em;}#sk-container-id-1 div.sk-label-container {text-align: center;}#sk-container-id-1 div.sk-container {/* jupyter's `normalize.less` sets `[hidden] { display: none; }` but bootstrap.min.css set `[hidden] { display: none !important; }` so we also need the `!important` here to be able to override the default hidden behavior on the sphinx rendered scikit-learn.org. See: https://github.com/scikit-learn/scikit-learn/issues/21755 */display: inline-block !important;position: relative;}#sk-container-id-1 div.sk-text-repr-fallback {display: none;}</style><div id=\"sk-container-id-1\" class=\"sk-top-container\"><div class=\"sk-text-repr-fallback\"><pre>LogisticRegressionCV()</pre><b>In a Jupyter environment, please rerun this cell to show the HTML representation or trust the notebook. <br />On GitHub, the HTML representation is unable to render, please try loading this page with nbviewer.org.</b></div><div class=\"sk-container\" hidden><div class=\"sk-item\"><div class=\"sk-estimator sk-toggleable\"><input class=\"sk-toggleable__control sk-hidden--visually\" id=\"sk-estimator-id-1\" type=\"checkbox\" checked><label for=\"sk-estimator-id-1\" class=\"sk-toggleable__label sk-toggleable__label-arrow\">LogisticRegressionCV</label><div class=\"sk-toggleable__content\"><pre>LogisticRegressionCV()</pre></div></div></div></div></div>"
      ],
      "text/plain": [
       "LogisticRegressionCV()"
      ]
     },
     "execution_count": 14,
     "metadata": {},
     "output_type": "execute_result"
    }
   ],
   "source": [
    "log_r = LogisticRegressionCV()\n",
    "log_r.fit(X_train, y_train)"
   ]
  },
  {
   "cell_type": "code",
   "execution_count": 15,
   "id": "945a8e4d",
   "metadata": {},
   "outputs": [
    {
     "data": {
      "text/plain": [
       "array([1, 1, 1, ..., 1, 1, 1])"
      ]
     },
     "metadata": {},
     "output_type": "display_data"
    },
    {
     "data": {
      "text/plain": [
       "0.9998302495331862"
      ]
     },
     "metadata": {},
     "output_type": "display_data"
    }
   ],
   "source": [
    "y_pred = log_r.predict(X_test)\n",
    "display(y_pred)\n",
    "display(np.sum(y_pred)/ y_pred.size)"
   ]
  },
  {
   "cell_type": "code",
   "execution_count": 16,
   "id": "f02534bb",
   "metadata": {},
   "outputs": [
    {
     "data": {
      "text/plain": [
       "0.8461463127999218"
      ]
     },
     "metadata": {},
     "output_type": "display_data"
    },
    {
     "data": {
      "text/plain": [
       "0.49988428604489704"
      ]
     },
     "metadata": {},
     "output_type": "display_data"
    }
   ],
   "source": [
    "display(f1_score(y_test, y_pred))\n",
    "display(roc_auc_score(y_test, y_pred))"
   ]
  },
  {
   "cell_type": "code",
   "execution_count": 17,
   "id": "2a124945",
   "metadata": {},
   "outputs": [
    {
     "data": {
      "text/plain": [
       "array([[   0, 1570],\n",
       "       [   1, 4320]])"
      ]
     },
     "metadata": {},
     "output_type": "display_data"
    }
   ],
   "source": [
    "display(confusion_matrix(y_test, y_pred))"
   ]
  },
  {
   "cell_type": "markdown",
   "id": "103c2655",
   "metadata": {},
   "source": [
    "This is the typical problem that arises when fitting a logistic regression in an imbalanced train set. In this case, the rate of true negatives is 0%, because almost all of the predictions of the models are correct = 1"
   ]
  },
  {
   "cell_type": "code",
   "execution_count": 18,
   "id": "01bbb5c8",
   "metadata": {},
   "outputs": [],
   "source": [
    "def log_r_train(X_train, X_test, y_train, y_test):\n",
    "    log_r = LogisticRegressionCV()\n",
    "    log_r.fit(X_train, y_train)\n",
    "    y_pred = log_r.predict(X_test)\n",
    "    display('Percentage of predicted correct answers: ' + str(np.sum(y_pred)/ y_pred.size))\n",
    "    display('F1 Score: ' + str(f1_score(y_test, y_pred)))\n",
    "    display('ROC AUC Score: ' + str(roc_auc_score(y_test, y_pred)))\n",
    "    display('Confusion matrix: ')\n",
    "    display(confusion_matrix(y_test, y_pred))\n",
    "    return log_r"
   ]
  },
  {
   "cell_type": "markdown",
   "id": "5a7dc8f5",
   "metadata": {},
   "source": [
    "### Multivariate logistic regression - Upsample incorrect"
   ]
  },
  {
   "cell_type": "code",
   "execution_count": 19,
   "id": "013a1e9b",
   "metadata": {},
   "outputs": [
    {
     "data": {
      "text/plain": [
       "correct\n",
       "1    17141\n",
       "0    17141\n",
       "Name: count, dtype: int64"
      ]
     },
     "metadata": {},
     "output_type": "display_data"
    }
   ],
   "source": [
    "data_q1_incorrect = data_q1[data_q1['correct']==0]\n",
    "data_q1_correct = data_q1[data_q1['correct']==1]\n",
    " \n",
    "data_q1_incorrect_upsampled = resample(data_q1_incorrect, \n",
    "                                 replace=True,\n",
    "                                 n_samples=len(data_q1_correct.index),\n",
    "                                 random_state=43)\n",
    " \n",
    "data_q1_upsampled = pd.concat([data_q1_correct, data_q1_incorrect_upsampled])\n",
    " \n",
    "display(data_q1_upsampled['correct'].value_counts())"
   ]
  },
  {
   "cell_type": "code",
   "execution_count": 20,
   "id": "04d76cd5",
   "metadata": {},
   "outputs": [
    {
     "data": {
      "text/plain": [
       "'Percentage of predicted correct answers: 0.821374402053436'"
      ]
     },
     "metadata": {},
     "output_type": "display_data"
    },
    {
     "data": {
      "text/plain": [
       "'F1 Score: 0.6535682819383261'"
      ]
     },
     "metadata": {},
     "output_type": "display_data"
    },
    {
     "data": {
      "text/plain": [
       "'ROC AUC Score: 0.5394077346417706'"
      ]
     },
     "metadata": {},
     "output_type": "display_data"
    },
    {
     "data": {
      "text/plain": [
       "'Confusion matrix: '"
      ]
     },
     "metadata": {},
     "output_type": "display_data"
    },
    {
     "data": {
      "text/plain": [
       "array([[ 930, 3331],\n",
       "       [ 601, 3709]])"
      ]
     },
     "metadata": {},
     "output_type": "display_data"
    }
   ],
   "source": [
    "X_train, X_test, y_train, y_test = preprocess(data_q1_upsampled)\n",
    "log_r = log_r_train(X_train, X_test, y_train, y_test)"
   ]
  },
  {
   "cell_type": "markdown",
   "id": "aaee6c78",
   "metadata": {},
   "source": [
    "# Baseline model for all the questions\n",
    "* Assumes feature engineering has to be done to predict every question, even though it is inneficient in this case, where features used for questions in the same checkpoint are the same\n",
    "* Assumes a model has to be built to predict every question"
   ]
  },
  {
   "cell_type": "code",
   "execution_count": 29,
   "id": "257425ad",
   "metadata": {},
   "outputs": [
    {
     "data": {
      "text/html": [
       "<div>\n",
       "<style scoped>\n",
       "    .dataframe tbody tr th:only-of-type {\n",
       "        vertical-align: middle;\n",
       "    }\n",
       "\n",
       "    .dataframe tbody tr th {\n",
       "        vertical-align: top;\n",
       "    }\n",
       "\n",
       "    .dataframe thead th {\n",
       "        text-align: right;\n",
       "    }\n",
       "</style>\n",
       "<table border=\"1\" class=\"dataframe\">\n",
       "  <thead>\n",
       "    <tr style=\"text-align: right;\">\n",
       "      <th></th>\n",
       "      <th>level_group</th>\n",
       "    </tr>\n",
       "  </thead>\n",
       "  <tbody>\n",
       "    <tr>\n",
       "      <th>1</th>\n",
       "      <td>0-4</td>\n",
       "    </tr>\n",
       "    <tr>\n",
       "      <th>2</th>\n",
       "      <td>0-4</td>\n",
       "    </tr>\n",
       "    <tr>\n",
       "      <th>3</th>\n",
       "      <td>0-4</td>\n",
       "    </tr>\n",
       "    <tr>\n",
       "      <th>4</th>\n",
       "      <td>5-12</td>\n",
       "    </tr>\n",
       "    <tr>\n",
       "      <th>5</th>\n",
       "      <td>5-12</td>\n",
       "    </tr>\n",
       "    <tr>\n",
       "      <th>6</th>\n",
       "      <td>5-12</td>\n",
       "    </tr>\n",
       "    <tr>\n",
       "      <th>7</th>\n",
       "      <td>5-12</td>\n",
       "    </tr>\n",
       "    <tr>\n",
       "      <th>8</th>\n",
       "      <td>5-12</td>\n",
       "    </tr>\n",
       "    <tr>\n",
       "      <th>9</th>\n",
       "      <td>5-12</td>\n",
       "    </tr>\n",
       "    <tr>\n",
       "      <th>10</th>\n",
       "      <td>5-12</td>\n",
       "    </tr>\n",
       "    <tr>\n",
       "      <th>11</th>\n",
       "      <td>5-12</td>\n",
       "    </tr>\n",
       "    <tr>\n",
       "      <th>12</th>\n",
       "      <td>5-12</td>\n",
       "    </tr>\n",
       "    <tr>\n",
       "      <th>13</th>\n",
       "      <td>5-12</td>\n",
       "    </tr>\n",
       "    <tr>\n",
       "      <th>14</th>\n",
       "      <td>13-22</td>\n",
       "    </tr>\n",
       "    <tr>\n",
       "      <th>15</th>\n",
       "      <td>13-22</td>\n",
       "    </tr>\n",
       "    <tr>\n",
       "      <th>16</th>\n",
       "      <td>13-22</td>\n",
       "    </tr>\n",
       "    <tr>\n",
       "      <th>17</th>\n",
       "      <td>13-22</td>\n",
       "    </tr>\n",
       "    <tr>\n",
       "      <th>18</th>\n",
       "      <td>13-22</td>\n",
       "    </tr>\n",
       "  </tbody>\n",
       "</table>\n",
       "</div>"
      ],
      "text/plain": [
       "   level_group\n",
       "1          0-4\n",
       "2          0-4\n",
       "3          0-4\n",
       "4         5-12\n",
       "5         5-12\n",
       "6         5-12\n",
       "7         5-12\n",
       "8         5-12\n",
       "9         5-12\n",
       "10        5-12\n",
       "11        5-12\n",
       "12        5-12\n",
       "13        5-12\n",
       "14       13-22\n",
       "15       13-22\n",
       "16       13-22\n",
       "17       13-22\n",
       "18       13-22"
      ]
     },
     "metadata": {},
     "output_type": "display_data"
    }
   ],
   "source": [
    "# Save questions look up table as a pickle file\n",
    "lk_question = pd.DataFrame(['0-4', '0-4', '0-4', '5-12', '5-12', '5-12', '5-12', '5-12', '5-12','5-12',\n",
    "                             '5-12', '5-12', '5-12','13-22', '13-22', '13-22', '13-22', '13-22'],\n",
    "                           columns = ['level_group'],\n",
    "                           index = [1, 2, 3, 4, 5, 6, 7, 8, 9, 10, 11, 12, 13, 14, 15, 16, 17, 18])\n",
    "display(lk_question)\n",
    "lk_question.to_pickle(\"../data/01_raw/lk_question.pkl\")"
   ]
  },
  {
   "cell_type": "code",
   "execution_count": 21,
   "id": "c74ac796",
   "metadata": {
    "tags": [
     "node"
    ]
   },
   "outputs": [
    {
     "data": {
      "text/html": [
       "<div>\n",
       "<style scoped>\n",
       "    .dataframe tbody tr th:only-of-type {\n",
       "        vertical-align: middle;\n",
       "    }\n",
       "\n",
       "    .dataframe tbody tr th {\n",
       "        vertical-align: top;\n",
       "    }\n",
       "\n",
       "    .dataframe thead th {\n",
       "        text-align: right;\n",
       "    }\n",
       "</style>\n",
       "<table border=\"1\" class=\"dataframe\">\n",
       "  <thead>\n",
       "    <tr style=\"text-align: right;\">\n",
       "      <th></th>\n",
       "      <th>level_group</th>\n",
       "    </tr>\n",
       "  </thead>\n",
       "  <tbody>\n",
       "    <tr>\n",
       "      <th>1</th>\n",
       "      <td>0-4</td>\n",
       "    </tr>\n",
       "    <tr>\n",
       "      <th>2</th>\n",
       "      <td>0-4</td>\n",
       "    </tr>\n",
       "    <tr>\n",
       "      <th>3</th>\n",
       "      <td>0-4</td>\n",
       "    </tr>\n",
       "    <tr>\n",
       "      <th>4</th>\n",
       "      <td>5-12</td>\n",
       "    </tr>\n",
       "    <tr>\n",
       "      <th>5</th>\n",
       "      <td>5-12</td>\n",
       "    </tr>\n",
       "    <tr>\n",
       "      <th>6</th>\n",
       "      <td>5-12</td>\n",
       "    </tr>\n",
       "    <tr>\n",
       "      <th>7</th>\n",
       "      <td>5-12</td>\n",
       "    </tr>\n",
       "    <tr>\n",
       "      <th>8</th>\n",
       "      <td>5-12</td>\n",
       "    </tr>\n",
       "    <tr>\n",
       "      <th>9</th>\n",
       "      <td>5-12</td>\n",
       "    </tr>\n",
       "    <tr>\n",
       "      <th>10</th>\n",
       "      <td>5-12</td>\n",
       "    </tr>\n",
       "    <tr>\n",
       "      <th>11</th>\n",
       "      <td>5-12</td>\n",
       "    </tr>\n",
       "    <tr>\n",
       "      <th>12</th>\n",
       "      <td>5-12</td>\n",
       "    </tr>\n",
       "    <tr>\n",
       "      <th>13</th>\n",
       "      <td>5-12</td>\n",
       "    </tr>\n",
       "    <tr>\n",
       "      <th>14</th>\n",
       "      <td>13-22</td>\n",
       "    </tr>\n",
       "    <tr>\n",
       "      <th>15</th>\n",
       "      <td>13-22</td>\n",
       "    </tr>\n",
       "    <tr>\n",
       "      <th>16</th>\n",
       "      <td>13-22</td>\n",
       "    </tr>\n",
       "    <tr>\n",
       "      <th>17</th>\n",
       "      <td>13-22</td>\n",
       "    </tr>\n",
       "    <tr>\n",
       "      <th>18</th>\n",
       "      <td>13-22</td>\n",
       "    </tr>\n",
       "  </tbody>\n",
       "</table>\n",
       "</div>"
      ],
      "text/plain": [
       "   level_group\n",
       "1          0-4\n",
       "2          0-4\n",
       "3          0-4\n",
       "4         5-12\n",
       "5         5-12\n",
       "6         5-12\n",
       "7         5-12\n",
       "8         5-12\n",
       "9         5-12\n",
       "10        5-12\n",
       "11        5-12\n",
       "12        5-12\n",
       "13        5-12\n",
       "14       13-22\n",
       "15       13-22\n",
       "16       13-22\n",
       "17       13-22\n",
       "18       13-22"
      ]
     },
     "metadata": {},
     "output_type": "display_data"
    }
   ],
   "source": [
    "def question_split(labels): \n",
    "    lbls = labels.copy()\n",
    "    lbls[['session_id', 'question']] = lbls['session_id'].str.split('_q', expand = True).astype({0: int, 1: int})\n",
    "    return lbls\n",
    "\n",
    "def sessions_train_test_split(df, test_size = 0.2, seed = 42):\n",
    "    np.random.seed(seed)\n",
    "    unique_sessions = df['session_id'].unique()\n",
    "    test_sessions = list(np.random.choice(unique_sessions, size = int(test_size * len(unique_sessions)), replace = False))\n",
    "    train_sessions = list(set(unique_sessions).difference(set(test_sessions)))\n",
    "    return train_sessions, test_sessions\n",
    "\n",
    "def session_list_split(df, session_list):\n",
    "    result_df = df[df['session_id'].isin(session_list)]\n",
    "    return result_df\n",
    "\n",
    "\n",
    "def jo_train_test_split(train, labels):\n",
    "    # Question split has to be done here in order to properly split train and test labels\n",
    "    # In Kaggle notebooks it will have to be done in train and test pipelines\n",
    "    labels_q = question_split(labels)\n",
    "\n",
    "    train_sessions, test_sessions = sessions_train_test_split(train, test_size = 0.2)\n",
    "\n",
    "    test_data = session_list_split(train, test_sessions)\n",
    "    train_data = session_list_split(train, train_sessions)\n",
    "    test_labels = session_list_split(labels_q, test_sessions)\n",
    "    train_labels = session_list_split(labels_q, train_sessions)\n",
    "    return train_data, train_labels, test_data, test_labels\n"
   ]
  },
  {
   "cell_type": "code",
   "execution_count": null,
   "id": "193a377e",
   "metadata": {},
   "outputs": [],
   "source": [
    "train_data, train_labels, test_data, test_labels = jo_train_test_split(train, labels)"
   ]
  },
  {
   "cell_type": "markdown",
   "id": "e51d2de0",
   "metadata": {},
   "source": [
    "## Feature engineering"
   ]
  },
  {
   "cell_type": "code",
   "execution_count": 22,
   "id": "6baf3490",
   "metadata": {},
   "outputs": [],
   "source": [
    "def time_diff_def(df):\n",
    "    assert isinstance(df, pd.DataFrame), \"df argument must be a pandas DataFrame\"\n",
    "    df = df.copy()\n",
    "    df.sort_values(by=['session_id', 'elapsed_time'], inplace=True)\n",
    "    df['time_diffs'] = df['elapsed_time'].diff(1)\n",
    "    df.loc[df['time_diffs'].isna(), 'time_diffs'] = 0\n",
    "    df.loc[df['time_diffs']<0, 'time_diffs'] = 0\n",
    "    return df"
   ]
  },
  {
   "cell_type": "code",
   "execution_count": 23,
   "id": "0b9b51d1",
   "metadata": {},
   "outputs": [],
   "source": [
    "def feature_engineering(df):\n",
    "    features_df = pd.pivot_table(df, index = 'session_id', columns = 'level', values = 'time_diffs', aggfunc = sum).fillna(0)\n",
    "    return features_df"
   ]
  },
  {
   "cell_type": "markdown",
   "id": "67931d97",
   "metadata": {},
   "source": [
    "## Data processing prior to model training"
   ]
  },
  {
   "cell_type": "code",
   "execution_count": 24,
   "id": "0ff03bdb",
   "metadata": {},
   "outputs": [],
   "source": [
    "def upsample_minority_class(df):\n",
    "    # upsample\n",
    "    df_incorrect = df[df['correct']==0]\n",
    "    df_correct = df[df['correct']==1]\n",
    "    \n",
    "    if len(df_incorrect.index) > len(df_correct.index):\n",
    "        df_correct = resample(df_correct, replace=True, n_samples=len(df_incorrect.index), random_state=21)\n",
    "    elif len(df_incorrect.index) < len(df_correct.index):\n",
    "        df_incorrect = resample(df_incorrect, replace=True, n_samples=len(df_correct.index), random_state=21)\n",
    "    \n",
    "    assert len(df_incorrect.index) == len(df_correct.index), 'Upsampling failed'\n",
    "    \n",
    "    upsampled_df = pd.concat([df_correct, df_incorrect])\n",
    "    \n",
    "    return upsampled_df\n"
   ]
  },
  {
   "cell_type": "markdown",
   "id": "e48cab3b",
   "metadata": {},
   "source": [
    "## Train pipeline"
   ]
  },
  {
   "cell_type": "code",
   "execution_count": 25,
   "id": "bfa10bdd",
   "metadata": {},
   "outputs": [],
   "source": [
    "train_data = time_diff_def(train_data)\n",
    "# List with a Scaler transformer for each question\n",
    "scaler = []\n",
    "# List with a Classifier model for each question\n",
    "clf = []\n",
    "\n",
    "q_i, q_e = (train_labels['question'].min(), train_labels['question'].max()+1)\n",
    "\n",
    "for q in range(q_i, q_e):\n",
    "    level_group = lk_question.loc[q,'level_group']\n",
    "    train_level = train_data[train_data['level_group'] == level_group]\n",
    "    labels = train_labels[train_labels['question'] == q].drop('question', axis = 1)\n",
    "    model_input = feature_engineering(train_level).merge(labels, on = 'session_id')\n",
    "    upsampled_model_input = upsample_minority_class(model_input)\n",
    "    X_train_unscaled = upsampled_model_input.drop(['session_id', 'correct'], axis = 1).to_numpy()\n",
    "    y_train = upsampled_model_input['correct'].to_numpy()\n",
    "    scaler_q = StandardScaler()\n",
    "    X_train = scaler_q.fit_transform(X_train_unscaled)\n",
    "    scaler.append(scaler_q)\n",
    "    clf_q = LogisticRegressionCV()\n",
    "    clf_q.fit(X_train, y_train)\n",
    "    clf.append(clf_q)"
   ]
  },
  {
   "cell_type": "markdown",
   "id": "78b18ea1",
   "metadata": {},
   "source": [
    "### Feature engineering"
   ]
  },
  {
   "cell_type": "markdown",
   "id": "7a866585",
   "metadata": {},
   "source": [
    "## Test pipeline"
   ]
  },
  {
   "cell_type": "code",
   "execution_count": 26,
   "id": "a4e913bc",
   "metadata": {},
   "outputs": [],
   "source": [
    "test_data = time_diff_def(test_data)\n",
    "# List with predicted probabilities for each question\n",
    "y_predicted = pd.DataFrame(columns=['session_id', 'question', 'predicted_proba', 'predicted'])\n",
    "q_i, q_e = (train_labels['question'].min(), train_labels['question'].max()+1)\n",
    "\n",
    "for q in range(q_i, q_e):\n",
    "    level_group = lk_question.loc[q,'level_group']\n",
    "    test_level = test_data[test_data['level_group'] == level_group]\n",
    "    model_input = feature_engineering(test_level).reset_index()\n",
    "    test_sessions = model_input['session_id'].to_list()\n",
    "    X_test_unscaled = model_input.drop('session_id', axis = 1).to_numpy()\n",
    "    X_test = scaler[q-1].transform(X_test_unscaled)\n",
    "    y_predicted = pd.concat([y_predicted,\n",
    "                                  pd.DataFrame(data = {'session_id': [x for x in test_sessions],\n",
    "                                                       'question': q,\n",
    "                                                       'predicted_proba': clf[q-1].predict_proba(X_test)[:,1].tolist(),\n",
    "                                                       'predicted': clf[q-1].predict(X_test).astype(int).tolist()})],\n",
    "                           ignore_index = True)\n",
    "    \n",
    "assert len(y_predicted.index) == len(test_labels.index), \"Predicted probabilities do not have the same shape as the test labels\""
   ]
  },
  {
   "cell_type": "code",
   "execution_count": 27,
   "id": "4a87d17c",
   "metadata": {},
   "outputs": [
    {
     "data": {
      "text/plain": [
       "session_id          object\n",
       "question            object\n",
       "predicted_proba    float64\n",
       "predicted           object\n",
       "correct              int64\n",
       "dtype: object"
      ]
     },
     "metadata": {},
     "output_type": "display_data"
    }
   ],
   "source": [
    "eval_df = y_predicted.merge(test_labels, on = ['session_id', 'question'])\n",
    "assert len(eval_df.index) == len(test_labels.index), \"Predicted probabilities do not have the same sessions as the test labels\"\n",
    "display(eval_df.dtypes)"
   ]
  },
  {
   "cell_type": "code",
   "execution_count": 28,
   "id": "8ac5873f",
   "metadata": {},
   "outputs": [
    {
     "data": {
      "text/plain": [
       "'Question 1'"
      ]
     },
     "metadata": {},
     "output_type": "display_data"
    },
    {
     "data": {
      "text/plain": [
       "'Percentage of predicted correct answers: 0.9685908319185059'"
      ]
     },
     "metadata": {},
     "output_type": "display_data"
    },
    {
     "data": {
      "text/plain": [
       "'Percentage of real correct answers: 0.7345076400679117'"
      ]
     },
     "metadata": {},
     "output_type": "display_data"
    },
    {
     "data": {
      "text/plain": [
       "'F1 Score: 0.8383800623052959'"
      ]
     },
     "metadata": {},
     "output_type": "display_data"
    },
    {
     "data": {
      "text/plain": [
       "'ROC AUC Score: 0.5063704020891926'"
      ]
     },
     "metadata": {},
     "output_type": "display_data"
    },
    {
     "data": {
      "text/plain": [
       "'Confusion matrix: '"
      ]
     },
     "metadata": {},
     "output_type": "display_data"
    },
    {
     "data": {
      "text/plain": [
       "array([[  51, 1200],\n",
       "       [  97, 3364]])"
      ]
     },
     "metadata": {},
     "output_type": "display_data"
    },
    {
     "data": {
      "text/plain": [
       "'Question 2'"
      ]
     },
     "metadata": {},
     "output_type": "display_data"
    },
    {
     "data": {
      "text/plain": [
       "'Percentage of predicted correct answers: 0.9613752122241087'"
      ]
     },
     "metadata": {},
     "output_type": "display_data"
    },
    {
     "data": {
      "text/plain": [
       "'Percentage of real correct answers: 0.9794142614601019'"
      ]
     },
     "metadata": {},
     "output_type": "display_data"
    },
    {
     "data": {
      "text/plain": [
       "'F1 Score: 0.9710224166211044'"
      ]
     },
     "metadata": {},
     "output_type": "display_data"
    },
    {
     "data": {
      "text/plain": [
       "'ROC AUC Score: 0.5171225609006936'"
      ]
     },
     "metadata": {},
     "output_type": "display_data"
    },
    {
     "data": {
      "text/plain": [
       "'Confusion matrix: '"
      ]
     },
     "metadata": {},
     "output_type": "display_data"
    },
    {
     "data": {
      "text/plain": [
       "array([[   7,   90],\n",
       "       [ 175, 4440]])"
      ]
     },
     "metadata": {},
     "output_type": "display_data"
    },
    {
     "data": {
      "text/plain": [
       "'Question 3'"
      ]
     },
     "metadata": {},
     "output_type": "display_data"
    },
    {
     "data": {
      "text/plain": [
       "'Percentage of predicted correct answers: 0.9717741935483871'"
      ]
     },
     "metadata": {},
     "output_type": "display_data"
    },
    {
     "data": {
      "text/plain": [
       "'Percentage of real correct answers: 0.933786078098472'"
      ]
     },
     "metadata": {},
     "output_type": "display_data"
    },
    {
     "data": {
      "text/plain": [
       "'F1 Score: 0.956008464194231'"
      ]
     },
     "metadata": {},
     "output_type": "display_data"
    },
    {
     "data": {
      "text/plain": [
       "'ROC AUC Score: 0.5277913752913753'"
      ]
     },
     "metadata": {},
     "output_type": "display_data"
    },
    {
     "data": {
      "text/plain": [
       "'Confusion matrix: '"
      ]
     },
     "metadata": {},
     "output_type": "display_data"
    },
    {
     "data": {
      "text/plain": [
       "array([[  25,  287],\n",
       "       [ 108, 4292]])"
      ]
     },
     "metadata": {},
     "output_type": "display_data"
    },
    {
     "data": {
      "text/plain": [
       "'Question 4'"
      ]
     },
     "metadata": {},
     "output_type": "display_data"
    },
    {
     "data": {
      "text/plain": [
       "'Percentage of predicted correct answers: 0.4772920203735144'"
      ]
     },
     "metadata": {},
     "output_type": "display_data"
    },
    {
     "data": {
      "text/plain": [
       "'Percentage of real correct answers: 0.7964770797962648'"
      ]
     },
     "metadata": {},
     "output_type": "display_data"
    },
    {
     "data": {
      "text/plain": [
       "'F1 Score: 0.5974675108297234'"
      ]
     },
     "metadata": {},
     "output_type": "display_data"
    },
    {
     "data": {
      "text/plain": [
       "'ROC AUC Score: 0.5011279124076478'"
      ]
     },
     "metadata": {},
     "output_type": "display_data"
    },
    {
     "data": {
      "text/plain": [
       "'Confusion matrix: '"
      ]
     },
     "metadata": {},
     "output_type": "display_data"
    },
    {
     "data": {
      "text/plain": [
       "array([[ 503,  456],\n",
       "       [1960, 1793]])"
      ]
     },
     "metadata": {},
     "output_type": "display_data"
    },
    {
     "data": {
      "text/plain": [
       "'Question 5'"
      ]
     },
     "metadata": {},
     "output_type": "display_data"
    },
    {
     "data": {
      "text/plain": [
       "'Percentage of predicted correct answers: 0.09613752122241087'"
      ]
     },
     "metadata": {},
     "output_type": "display_data"
    },
    {
     "data": {
      "text/plain": [
       "'Percentage of real correct answers: 0.5324702886247877'"
      ]
     },
     "metadata": {},
     "output_type": "display_data"
    },
    {
     "data": {
      "text/plain": [
       "'F1 Score: 0.14584740040513164'"
      ]
     },
     "metadata": {},
     "output_type": "display_data"
    },
    {
     "data": {
      "text/plain": [
       "'ROC AUC Score: 0.4892547518900185'"
      ]
     },
     "metadata": {},
     "output_type": "display_data"
    },
    {
     "data": {
      "text/plain": [
       "'Confusion matrix: '"
      ]
     },
     "metadata": {},
     "output_type": "display_data"
    },
    {
     "data": {
      "text/plain": [
       "array([[1966,  237],\n",
       "       [2293,  216]])"
      ]
     },
     "metadata": {},
     "output_type": "display_data"
    },
    {
     "data": {
      "text/plain": [
       "'Question 6'"
      ]
     },
     "metadata": {},
     "output_type": "display_data"
    },
    {
     "data": {
      "text/plain": [
       "'Percentage of predicted correct answers: 0.9091680814940577'"
      ]
     },
     "metadata": {},
     "output_type": "display_data"
    },
    {
     "data": {
      "text/plain": [
       "'Percentage of real correct answers: 0.7828947368421053'"
      ]
     },
     "metadata": {},
     "output_type": "display_data"
    },
    {
     "data": {
      "text/plain": [
       "'F1 Score: 0.8518750783895648'"
      ]
     },
     "metadata": {},
     "output_type": "display_data"
    },
    {
     "data": {
      "text/plain": [
       "'ROC AUC Score: 0.5262697454348307'"
      ]
     },
     "metadata": {},
     "output_type": "display_data"
    },
    {
     "data": {
      "text/plain": [
       "'Confusion matrix: '"
      ]
     },
     "metadata": {},
     "output_type": "display_data"
    },
    {
     "data": {
      "text/plain": [
       "array([[ 135,  888],\n",
       "       [ 293, 3396]])"
      ]
     },
     "metadata": {},
     "output_type": "display_data"
    },
    {
     "data": {
      "text/plain": [
       "'Question 7'"
      ]
     },
     "metadata": {},
     "output_type": "display_data"
    },
    {
     "data": {
      "text/plain": [
       "'Percentage of predicted correct answers: 0.18123938879456705'"
      ]
     },
     "metadata": {},
     "output_type": "display_data"
    },
    {
     "data": {
      "text/plain": [
       "'Percentage of real correct answers: 0.7412988115449916'"
      ]
     },
     "metadata": {},
     "output_type": "display_data"
    },
    {
     "data": {
      "text/plain": [
       "'F1 Score: 0.2682309638831378'"
      ]
     },
     "metadata": {},
     "output_type": "display_data"
    },
    {
     "data": {
      "text/plain": [
       "'ROC AUC Score: 0.4722959337167244'"
      ]
     },
     "metadata": {},
     "output_type": "display_data"
    },
    {
     "data": {
      "text/plain": [
       "'Confusion matrix: '"
      ]
     },
     "metadata": {},
     "output_type": "display_data"
    },
    {
     "data": {
      "text/plain": [
       "array([[ 948,  271],\n",
       "       [2910,  583]])"
      ]
     },
     "metadata": {},
     "output_type": "display_data"
    },
    {
     "data": {
      "text/plain": [
       "'Question 8'"
      ]
     },
     "metadata": {},
     "output_type": "display_data"
    },
    {
     "data": {
      "text/plain": [
       "'Percentage of predicted correct answers: 0.879881154499151'"
      ]
     },
     "metadata": {},
     "output_type": "display_data"
    },
    {
     "data": {
      "text/plain": [
       "'Percentage of real correct answers: 0.6056876061120543'"
      ]
     },
     "metadata": {},
     "output_type": "display_data"
    },
    {
     "data": {
      "text/plain": [
       "'F1 Score: 0.7151428571428572'"
      ]
     },
     "metadata": {},
     "output_type": "display_data"
    },
    {
     "data": {
      "text/plain": [
       "'ROC AUC Score: 0.4963652698269496'"
      ]
     },
     "metadata": {},
     "output_type": "display_data"
    },
    {
     "data": {
      "text/plain": [
       "'Confusion matrix: '"
      ]
     },
     "metadata": {},
     "output_type": "display_data"
    },
    {
     "data": {
      "text/plain": [
       "array([[ 215, 1643],\n",
       "       [ 351, 2503]])"
      ]
     },
     "metadata": {},
     "output_type": "display_data"
    },
    {
     "data": {
      "text/plain": [
       "'Question 9'"
      ]
     },
     "metadata": {},
     "output_type": "display_data"
    },
    {
     "data": {
      "text/plain": [
       "'Percentage of predicted correct answers: 0.9524617996604414'"
      ]
     },
     "metadata": {},
     "output_type": "display_data"
    },
    {
     "data": {
      "text/plain": [
       "'Percentage of real correct answers: 0.7264431239388794'"
      ]
     },
     "metadata": {},
     "output_type": "display_data"
    },
    {
     "data": {
      "text/plain": [
       "'F1 Score: 0.8307420048034383'"
      ]
     },
     "metadata": {},
     "output_type": "display_data"
    },
    {
     "data": {
      "text/plain": [
       "'ROC AUC Score: 0.5137354051121799'"
      ]
     },
     "metadata": {},
     "output_type": "display_data"
    },
    {
     "data": {
      "text/plain": [
       "'Confusion matrix: '"
      ]
     },
     "metadata": {},
     "output_type": "display_data"
    },
    {
     "data": {
      "text/plain": [
       "array([[  87, 1202],\n",
       "       [ 137, 3286]])"
      ]
     },
     "metadata": {},
     "output_type": "display_data"
    },
    {
     "data": {
      "text/plain": [
       "'Question 10'"
      ]
     },
     "metadata": {},
     "output_type": "display_data"
    },
    {
     "data": {
      "text/plain": [
       "'Percentage of predicted correct answers: 0.05369269949066214'"
      ]
     },
     "metadata": {},
     "output_type": "display_data"
    },
    {
     "data": {
      "text/plain": [
       "'Percentage of real correct answers: 0.4921477079796265'"
      ]
     },
     "metadata": {},
     "output_type": "display_data"
    },
    {
     "data": {
      "text/plain": [
       "'F1 Score: 0.08164852255054432'"
      ]
     },
     "metadata": {},
     "output_type": "display_data"
    },
    {
     "data": {
      "text/plain": [
       "'ROC AUC Score: 0.49171554161042147'"
      ]
     },
     "metadata": {},
     "output_type": "display_data"
    },
    {
     "data": {
      "text/plain": [
       "'Confusion matrix: '"
      ]
     },
     "metadata": {},
     "output_type": "display_data"
    },
    {
     "data": {
      "text/plain": [
       "array([[2245,  148],\n",
       "       [2214,  105]])"
      ]
     },
     "metadata": {},
     "output_type": "display_data"
    },
    {
     "data": {
      "text/plain": [
       "'Question 11'"
      ]
     },
     "metadata": {},
     "output_type": "display_data"
    },
    {
     "data": {
      "text/plain": [
       "'Percentage of predicted correct answers: 0.9350594227504244'"
      ]
     },
     "metadata": {},
     "output_type": "display_data"
    },
    {
     "data": {
      "text/plain": [
       "'Percentage of real correct answers: 0.6402801358234296'"
      ]
     },
     "metadata": {},
     "output_type": "display_data"
    },
    {
     "data": {
      "text/plain": [
       "'F1 Score: 0.7630338138219049'"
      ]
     },
     "metadata": {},
     "output_type": "display_data"
    },
    {
     "data": {
      "text/plain": [
       "'ROC AUC Score: 0.5050336197144402'"
      ]
     },
     "metadata": {},
     "output_type": "display_data"
    },
    {
     "data": {
      "text/plain": [
       "'Confusion matrix: '"
      ]
     },
     "metadata": {},
     "output_type": "display_data"
    },
    {
     "data": {
      "text/plain": [
       "array([[ 121, 1574],\n",
       "       [ 185, 2832]])"
      ]
     },
     "metadata": {},
     "output_type": "display_data"
    },
    {
     "data": {
      "text/plain": [
       "'Question 12'"
      ]
     },
     "metadata": {},
     "output_type": "display_data"
    },
    {
     "data": {
      "text/plain": [
       "'Percentage of predicted correct answers: 0.1283955857385399'"
      ]
     },
     "metadata": {},
     "output_type": "display_data"
    },
    {
     "data": {
      "text/plain": [
       "'Percentage of real correct answers: 0.8639643463497453'"
      ]
     },
     "metadata": {},
     "output_type": "display_data"
    },
    {
     "data": {
      "text/plain": [
       "'F1 Score: 0.22027373823781007'"
      ]
     },
     "metadata": {},
     "output_type": "display_data"
    },
    {
     "data": {
      "text/plain": [
       "'ROC AUC Score: 0.4930494640566757'"
      ]
     },
     "metadata": {},
     "output_type": "display_data"
    },
    {
     "data": {
      "text/plain": [
       "'Confusion matrix: '"
      ]
     },
     "metadata": {},
     "output_type": "display_data"
    },
    {
     "data": {
      "text/plain": [
       "array([[ 551,   90],\n",
       "       [3556,  515]])"
      ]
     },
     "metadata": {},
     "output_type": "display_data"
    },
    {
     "data": {
      "text/plain": [
       "'Question 13'"
      ]
     },
     "metadata": {},
     "output_type": "display_data"
    },
    {
     "data": {
      "text/plain": [
       "'Percentage of predicted correct answers: 0.9214770797962648'"
      ]
     },
     "metadata": {},
     "output_type": "display_data"
    },
    {
     "data": {
      "text/plain": [
       "'Percentage of real correct answers: 0.2631578947368421'"
      ]
     },
     "metadata": {},
     "output_type": "display_data"
    },
    {
     "data": {
      "text/plain": [
       "'F1 Score: 0.40988892869939086'"
      ]
     },
     "metadata": {},
     "output_type": "display_data"
    },
    {
     "data": {
      "text/plain": [
       "'ROC AUC Score: 0.5007488479262673'"
      ]
     },
     "metadata": {},
     "output_type": "display_data"
    },
    {
     "data": {
      "text/plain": [
       "'Confusion matrix: '"
      ]
     },
     "metadata": {},
     "output_type": "display_data"
    },
    {
     "data": {
      "text/plain": [
       "array([[ 274, 3198],\n",
       "       [  96, 1144]])"
      ]
     },
     "metadata": {},
     "output_type": "display_data"
    },
    {
     "data": {
      "text/plain": [
       "'Question 14'"
      ]
     },
     "metadata": {},
     "output_type": "display_data"
    },
    {
     "data": {
      "text/plain": [
       "'Percentage of predicted correct answers: 0.9325127334465195'"
      ]
     },
     "metadata": {},
     "output_type": "display_data"
    },
    {
     "data": {
      "text/plain": [
       "'Percentage of real correct answers: 0.7132852292020373'"
      ]
     },
     "metadata": {},
     "output_type": "display_data"
    },
    {
     "data": {
      "text/plain": [
       "'F1 Score: 0.8090264345583494'"
      ]
     },
     "metadata": {},
     "output_type": "display_data"
    },
    {
     "data": {
      "text/plain": [
       "'ROC AUC Score: 0.5014656295016353'"
      ]
     },
     "metadata": {},
     "output_type": "display_data"
    },
    {
     "data": {
      "text/plain": [
       "'Confusion matrix: '"
      ]
     },
     "metadata": {},
     "output_type": "display_data"
    },
    {
     "data": {
      "text/plain": [
       "array([[  94, 1257],\n",
       "       [ 224, 3137]])"
      ]
     },
     "metadata": {},
     "output_type": "display_data"
    },
    {
     "data": {
      "text/plain": [
       "'Question 15'"
      ]
     },
     "metadata": {},
     "output_type": "display_data"
    },
    {
     "data": {
      "text/plain": [
       "'Percentage of predicted correct answers: 0.9216893039049237'"
      ]
     },
     "metadata": {},
     "output_type": "display_data"
    },
    {
     "data": {
      "text/plain": [
       "'Percentage of real correct answers: 0.4705008488964346'"
      ]
     },
     "metadata": {},
     "output_type": "display_data"
    },
    {
     "data": {
      "text/plain": [
       "'F1 Score: 0.6295731707317074'"
      ]
     },
     "metadata": {},
     "output_type": "display_data"
    },
    {
     "data": {
      "text/plain": [
       "'ROC AUC Score: 0.509206414633507'"
      ]
     },
     "metadata": {},
     "output_type": "display_data"
    },
    {
     "data": {
      "text/plain": [
       "'Confusion matrix: '"
      ]
     },
     "metadata": {},
     "output_type": "display_data"
    },
    {
     "data": {
      "text/plain": [
       "array([[ 217, 2278],\n",
       "       [ 152, 2065]])"
      ]
     },
     "metadata": {},
     "output_type": "display_data"
    },
    {
     "data": {
      "text/plain": [
       "'Question 16'"
      ]
     },
     "metadata": {},
     "output_type": "display_data"
    },
    {
     "data": {
      "text/plain": [
       "'Percentage of predicted correct answers: 0.9443972835314092'"
      ]
     },
     "metadata": {},
     "output_type": "display_data"
    },
    {
     "data": {
      "text/plain": [
       "'Percentage of real correct answers: 0.7366298811544991'"
      ]
     },
     "metadata": {},
     "output_type": "display_data"
    },
    {
     "data": {
      "text/plain": [
       "'F1 Score: 0.8289357404368135'"
      ]
     },
     "metadata": {},
     "output_type": "display_data"
    },
    {
     "data": {
      "text/plain": [
       "'ROC AUC Score: 0.502733132892754'"
      ]
     },
     "metadata": {},
     "output_type": "display_data"
    },
    {
     "data": {
      "text/plain": [
       "'Confusion matrix: '"
      ]
     },
     "metadata": {},
     "output_type": "display_data"
    },
    {
     "data": {
      "text/plain": [
       "array([[  74, 1167],\n",
       "       [ 188, 3283]])"
      ]
     },
     "metadata": {},
     "output_type": "display_data"
    },
    {
     "data": {
      "text/plain": [
       "'Question 17'"
      ]
     },
     "metadata": {},
     "output_type": "display_data"
    },
    {
     "data": {
      "text/plain": [
       "'Percentage of predicted correct answers: 0.9361205432937182'"
      ]
     },
     "metadata": {},
     "output_type": "display_data"
    },
    {
     "data": {
      "text/plain": [
       "'Percentage of real correct answers: 0.6778438030560272'"
      ]
     },
     "metadata": {},
     "output_type": "display_data"
    },
    {
     "data": {
      "text/plain": [
       "'F1 Score: 0.7905325443786982'"
      ]
     },
     "metadata": {},
     "output_type": "display_data"
    },
    {
     "data": {
      "text/plain": [
       "'ROC AUC Score: 0.5077898447599789'"
      ]
     },
     "metadata": {},
     "output_type": "display_data"
    },
    {
     "data": {
      "text/plain": [
       "'Confusion matrix: '"
      ]
     },
     "metadata": {},
     "output_type": "display_data"
    },
    {
     "data": {
      "text/plain": [
       "array([[ 113, 1405],\n",
       "       [ 188, 3006]])"
      ]
     },
     "metadata": {},
     "output_type": "display_data"
    },
    {
     "data": {
      "text/plain": [
       "'Question 18'"
      ]
     },
     "metadata": {},
     "output_type": "display_data"
    },
    {
     "data": {
      "text/plain": [
       "'Percentage of predicted correct answers: 0.9471561969439728'"
      ]
     },
     "metadata": {},
     "output_type": "display_data"
    },
    {
     "data": {
      "text/plain": [
       "'Percentage of real correct answers: 0.9497028862478778'"
      ]
     },
     "metadata": {},
     "output_type": "display_data"
    },
    {
     "data": {
      "text/plain": [
       "'F1 Score: 0.9480868203177445'"
      ]
     },
     "metadata": {},
     "output_type": "display_data"
    },
    {
     "data": {
      "text/plain": [
       "'ROC AUC Score: 0.4966145722839026'"
      ]
     },
     "metadata": {},
     "output_type": "display_data"
    },
    {
     "data": {
      "text/plain": [
       "'Confusion matrix: '"
      ]
     },
     "metadata": {},
     "output_type": "display_data"
    },
    {
     "data": {
      "text/plain": [
       "array([[  11,  226],\n",
       "       [ 238, 4237]])"
      ]
     },
     "metadata": {},
     "output_type": "display_data"
    }
   ],
   "source": [
    "for q in range(eval_df['question'].min(), eval_df['question'].max()+1):\n",
    "    eval_df_q = eval_df[eval_df['question'] == q]\n",
    "    y_test = eval_df_q['correct'].to_numpy()\n",
    "    y_pred = eval_df_q['predicted'].to_numpy(dtype=int)\n",
    "    display('Question '+str(q))\n",
    "    display('Percentage of predicted correct answers: ' + str(np.sum(y_pred)/ y_pred.size))\n",
    "    display('Percentage of real correct answers: ' + str(np.sum(y_test)/ y_test.size))\n",
    "    display('F1 Score: ' + str(f1_score(y_test, y_pred)))\n",
    "    display('ROC AUC Score: ' + str(roc_auc_score(y_test, y_pred)))\n",
    "    display('Confusion matrix: ')\n",
    "    display(confusion_matrix(y_test, y_pred))"
   ]
  },
  {
   "cell_type": "markdown",
   "id": "231ffd18",
   "metadata": {},
   "source": [
    "# Next steps\n",
    "4. Redesign the kedro pipeline using mermaid (diagram as code) DONE\n",
    "5. Reflect the data processing pipeline structure in kedro using the data catalog, nodes and pipelines DONE\n",
    "6. Develop reporting capabilities in the log reg: Train and test General Score, Score per question DONE\n",
    "7. Develop experiment tracking capabilities\n",
    "8. Research if a notebook with pre-trained models can be uploaded to kaggle\n",
    "9. Diagnose the baseline model and redefine next steps:\n",
    "    9.1. Check hypothesis for feature engineering in notebook 01.\n",
    "    9.2. Try tree based models (most likely XGBoost)"
   ]
  },
  {
   "cell_type": "code",
   "execution_count": null,
   "id": "a1a0b47f",
   "metadata": {},
   "outputs": [],
   "source": []
  }
 ],
 "metadata": {
  "kernelspec": {
   "display_name": "Kedro (predicting_student_performance)",
   "language": "python",
   "name": "kedro_predicting_student_performance"
  },
  "language_info": {
   "codemirror_mode": {
    "name": "ipython",
    "version": 3
   },
   "file_extension": ".py",
   "mimetype": "text/x-python",
   "name": "python",
   "nbconvert_exporter": "python",
   "pygments_lexer": "ipython3",
   "version": "3.10.9"
  }
 },
 "nbformat": 4,
 "nbformat_minor": 5
}
