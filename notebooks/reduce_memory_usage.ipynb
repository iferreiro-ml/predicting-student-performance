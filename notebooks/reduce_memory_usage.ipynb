{
 "cells": [
  {
   "cell_type": "markdown",
   "metadata": {},
   "source": [
    "# Reduce Memory 2GB ==> 500MB"
   ]
  },
  {
   "cell_type": "markdown",
   "metadata": {},
   "source": [
    "This is a modified version of [@Mohamed Eltayeb](https://www.kaggle.com/mohammad2012191)'s notebook:\n",
    "\n",
    "[https://www.kaggle.com/code/mohammad2012191/reduce-memory-usage-2gb-780mb](https://www.kaggle.com/code/mohammad2012191/reduce-memory-usage-2gb-780mb).\n",
    "\n",
    "There are two steps to reduce memory usage:\n",
    "\n",
    "- Don't load `fullscreen`,`hq`,`music` columns. These features are full of NA values.\n",
    "\n",
    "- Use the `reduce_memory_usage` function. This function is copied from Mohamed Eltayeb's notebook. Thanks to the original author of this function [@ArjanGroen](https://www.kaggle.com/arjanso)."
   ]
  },
  {
   "cell_type": "markdown",
   "metadata": {},
   "source": [
    "Train data after memory reduction is here: [https://www.kaggle.com/datasets/curiosity30/sp-reduce-mem-train](https://www.kaggle.com/datasets/curiosity30/sp-reduce-mem-train).\n",
    "\n",
    "For ease of use, I have uploaded this dataset to this notebook. You can directly copy this notebook to start your work.\n",
    "\n",
    "**Please upvote if this notebook helps you. Thank you for your support!**"
   ]
  },
  {
   "cell_type": "markdown",
   "metadata": {},
   "source": [
    "# Code"
   ]
  },
  {
   "cell_type": "code",
   "execution_count": 1,
   "metadata": {
    "_cell_guid": "b1076dfc-b9ad-4769-8c92-a6c4dae69d19",
    "_uuid": "8f2839f25d086af736a60e9eeb907d3b93b6e0e5",
    "execution": {
     "iopub.execute_input": "2023-02-15T03:38:03.814326Z",
     "iopub.status.busy": "2023-02-15T03:38:03.813839Z",
     "iopub.status.idle": "2023-02-15T03:38:05.308356Z",
     "shell.execute_reply": "2023-02-15T03:38:05.307384Z",
     "shell.execute_reply.started": "2023-02-15T03:38:03.814229Z"
    },
    "tags": [
     "node"
    ]
   },
   "outputs": [
    {
     "data": {
      "text/html": [
       "<style type='text/css'>\n",
       ".datatable table.frame { margin-bottom: 0; }\n",
       ".datatable table.frame thead { border-bottom: none; }\n",
       ".datatable table.frame tr.coltypes td {  color: #FFFFFF;  line-height: 6px;  padding: 0 0.5em;}\n",
       ".datatable .bool    { background: #DDDD99; }\n",
       ".datatable .object  { background: #565656; }\n",
       ".datatable .int     { background: #5D9E5D; }\n",
       ".datatable .float   { background: #4040CC; }\n",
       ".datatable .str     { background: #CC4040; }\n",
       ".datatable .time    { background: #40CC40; }\n",
       ".datatable .row_index {  background: var(--jp-border-color3);  border-right: 1px solid var(--jp-border-color0);  color: var(--jp-ui-font-color3);  font-size: 9px;}\n",
       ".datatable .frame tbody td { text-align: left; }\n",
       ".datatable .frame tr.coltypes .row_index {  background: var(--jp-border-color0);}\n",
       ".datatable th:nth-child(2) { padding-left: 12px; }\n",
       ".datatable .hellipsis {  color: var(--jp-cell-editor-border-color);}\n",
       ".datatable .vellipsis {  background: var(--jp-layout-color0);  color: var(--jp-cell-editor-border-color);}\n",
       ".datatable .na {  color: var(--jp-cell-editor-border-color);  font-size: 80%;}\n",
       ".datatable .sp {  opacity: 0.25;}\n",
       ".datatable .footer { font-size: 9px; }\n",
       ".datatable .frame_dimensions {  background: var(--jp-border-color3);  border-top: 1px solid var(--jp-border-color0);  color: var(--jp-ui-font-color3);  display: inline-block;  opacity: 0.6;  padding: 1px 10px 1px 5px;}\n",
       "</style>\n"
      ],
      "text/plain": [
       "<IPython.core.display.HTML object>"
      ]
     },
     "metadata": {},
     "output_type": "display_data"
    }
   ],
   "source": [
    "import pandas as pd, numpy as np\n",
    "from sklearn.model_selection import KFold, GroupKFold\n",
    "import lightgbm as lgb\n",
    "from xgboost import XGBClassifier\n",
    "from sklearn.metrics import f1_score\n",
    "import os\n",
    "import gc"
   ]
  },
  {
   "cell_type": "code",
   "execution_count": 1,
   "metadata": {
    "execution": {
     "iopub.execute_input": "2023-02-15T03:38:05.310540Z",
     "iopub.status.busy": "2023-02-15T03:38:05.310189Z",
     "iopub.status.idle": "2023-02-15T03:38:05.324525Z",
     "shell.execute_reply": "2023-02-15T03:38:05.323666Z",
     "shell.execute_reply.started": "2023-02-15T03:38:05.310506Z"
    },
    "tags": [
     "node"
    ]
   },
   "outputs": [],
   "source": [
    "def reduce_memory_usage(df):\n",
    "    \n",
    "    start_mem = df.memory_usage().sum() / 1024**2\n",
    "    print('BEFORE: Memory usage of dataframe is {:.2f} MB'.format(start_mem))\n",
    "    \n",
    "    for col in df.columns:\n",
    "        col_type = df[col].dtype.name\n",
    "        if ((col_type != 'datetime64[ns]') & (col_type != 'category')):\n",
    "            if (col_type != 'object'):\n",
    "                c_min = df[col].min()\n",
    "                c_max = df[col].max()\n",
    "\n",
    "                if str(col_type)[:3] == 'int':\n",
    "                    if c_min > np.iinfo(np.int8).min and c_max < np.iinfo(np.int8).max:\n",
    "                        df[col] = df[col].astype(np.int8)\n",
    "                    elif c_min > np.iinfo(np.int16).min and c_max < np.iinfo(np.int16).max:\n",
    "                        df[col] = df[col].astype(np.int16)\n",
    "                    elif c_min > np.iinfo(np.int32).min and c_max < np.iinfo(np.int32).max:\n",
    "                        df[col] = df[col].astype(np.int32)\n",
    "                    elif c_min > np.iinfo(np.int64).min and c_max < np.iinfo(np.int64).max:\n",
    "                        df[col] = df[col].astype(np.int64)\n",
    "\n",
    "                else:\n",
    "                    if c_min > np.finfo(np.float16).min and c_max < np.finfo(np.float16).max:\n",
    "                        df[col] = df[col].astype(np.float16)\n",
    "                    elif c_min > np.finfo(np.float32).min and c_max < np.finfo(np.float32).max:\n",
    "                        df[col] = df[col].astype(np.float32)\n",
    "                    else:\n",
    "                        pass\n",
    "            else:\n",
    "                df[col] = df[col].astype('category')\n",
    "    mem_usg = df.memory_usage().sum() / 1024**2 \n",
    "    print(\"AFTER: Memory usage became: \",mem_usg,\" MB\")\n",
    "    \n",
    "    return df"
   ]
  },
  {
   "cell_type": "code",
   "execution_count": 3,
   "metadata": {
    "execution": {
     "iopub.execute_input": "2023-02-15T03:38:05.326683Z",
     "iopub.status.busy": "2023-02-15T03:38:05.325941Z",
     "iopub.status.idle": "2023-02-15T03:38:56.100569Z",
     "shell.execute_reply": "2023-02-15T03:38:56.099732Z",
     "shell.execute_reply.started": "2023-02-15T03:38:05.326648Z"
    }
   },
   "outputs": [
    {
     "name": "stdout",
     "output_type": "stream",
     "text": [
      "(13174211, 17)\n",
      "CPU times: user 29.3 s, sys: 7.83 s, total: 37.2 s\n",
      "Wall time: 50.8 s\n"
     ]
    }
   ],
   "source": [
    "%%time\n",
    "train_path = '/data/01_raw/train.csv'\n",
    "train_cols = ['session_id', 'index', 'elapsed_time', 'event_name', 'name', 'level', 'page', \\\n",
    "              'room_coor_x', 'room_coor_y', 'screen_coor_x', 'screen_coor_y', 'hover_duration', \\\n",
    "              'text', 'fqid', 'room_fqid', 'text_fqid', 'level_group']\n",
    "train = pd.read_csv(train_path, usecols=train_cols)\n",
    "print(train.shape)"
   ]
  },
  {
   "cell_type": "code",
   "execution_count": 4,
   "metadata": {
    "execution": {
     "iopub.execute_input": "2023-02-15T03:38:56.103413Z",
     "iopub.status.busy": "2023-02-15T03:38:56.102437Z",
     "iopub.status.idle": "2023-02-15T03:39:09.513884Z",
     "shell.execute_reply": "2023-02-15T03:39:09.512981Z",
     "shell.execute_reply.started": "2023-02-15T03:38:56.103376Z"
    }
   },
   "outputs": [
    {
     "name": "stdout",
     "output_type": "stream",
     "text": [
      "BEFORE: Memory usage of dataframe is 1708.69 MB\n",
      "AFTER: Memory usage became:  477.4601535797119  MB\n",
      "OK!\n"
     ]
    }
   ],
   "source": [
    "train = reduce_memory_usage(train)\n",
    "train.to_pickle('reduce_train.pkl')\n",
    "print('OK!')"
   ]
  },
  {
   "cell_type": "code",
   "execution_count": 5,
   "metadata": {
    "execution": {
     "iopub.execute_input": "2023-02-15T03:39:09.519731Z",
     "iopub.status.busy": "2023-02-15T03:39:09.517756Z",
     "iopub.status.idle": "2023-02-15T03:39:09.529141Z",
     "shell.execute_reply": "2023-02-15T03:39:09.528098Z",
     "shell.execute_reply.started": "2023-02-15T03:39:09.519692Z"
    }
   },
   "outputs": [
    {
     "name": "stdout",
     "output_type": "stream",
     "text": [
      "session_id           int64\n",
      "index                int16\n",
      "elapsed_time         int32\n",
      "event_name        category\n",
      "name              category\n",
      "level                 int8\n",
      "page               float16\n",
      "room_coor_x        float16\n",
      "room_coor_y        float16\n",
      "screen_coor_x      float16\n",
      "screen_coor_y      float16\n",
      "hover_duration     float32\n",
      "text              category\n",
      "fqid              category\n",
      "room_fqid         category\n",
      "text_fqid         category\n",
      "level_group       category\n",
      "dtype: object\n"
     ]
    }
   ],
   "source": [
    "print(train.dtypes)"
   ]
  }
 ],
 "metadata": {
  "celltoolbar": "Tags",
  "kernelspec": {
   "display_name": "Kedro (predicting_student_performance)",
   "language": "python",
   "name": "kedro_predicting_student_performance"
  },
  "language_info": {
   "codemirror_mode": {
    "name": "ipython",
    "version": 3
   },
   "file_extension": ".py",
   "mimetype": "text/x-python",
   "name": "python",
   "nbconvert_exporter": "python",
   "pygments_lexer": "ipython3",
   "version": "3.10.9"
  }
 },
 "nbformat": 4,
 "nbformat_minor": 4
}
